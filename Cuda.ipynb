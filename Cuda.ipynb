{
  "nbformat": 4,
  "nbformat_minor": 0,
  "metadata": {
    "colab": {
      "provenance": [],
      "authorship_tag": "ABX9TyMQ/3sXjzYu86pmGDx3oc9c",
      "include_colab_link": true
    },
    "kernelspec": {
      "name": "python3",
      "display_name": "Python 3"
    },
    "language_info": {
      "name": "python"
    },
    "accelerator": "GPU",
    "gpuClass": "standard"
  },
  "cells": [
    {
      "cell_type": "markdown",
      "metadata": {
        "id": "view-in-github",
        "colab_type": "text"
      },
      "source": [
        "<a href=\"https://colab.research.google.com/github/TokaevAD/Cuda/blob/main/Cuda.ipynb\" target=\"_parent\"><img src=\"https://colab.research.google.com/assets/colab-badge.svg\" alt=\"Open In Colab\"/></a>"
      ]
    },
    {
      "cell_type": "code",
      "execution_count": 1,
      "metadata": {
        "colab": {
          "base_uri": "https://localhost:8080/",
          "height": 0
        },
        "id": "1rgLafwgOBDo",
        "outputId": "cb69bcd8-41e4-49e2-eca4-3f5c116669bb"
      },
      "outputs": [
        {
          "output_type": "stream",
          "name": "stdout",
          "text": [
            "Mon Mar 13 11:06:58 2023       \n",
            "+-----------------------------------------------------------------------------+\n",
            "| NVIDIA-SMI 525.85.12    Driver Version: 525.85.12    CUDA Version: 12.0     |\n",
            "|-------------------------------+----------------------+----------------------+\n",
            "| GPU  Name        Persistence-M| Bus-Id        Disp.A | Volatile Uncorr. ECC |\n",
            "| Fan  Temp  Perf  Pwr:Usage/Cap|         Memory-Usage | GPU-Util  Compute M. |\n",
            "|                               |                      |               MIG M. |\n",
            "|===============================+======================+======================|\n",
            "|   0  Tesla T4            Off  | 00000000:00:04.0 Off |                    0 |\n",
            "| N/A   71C    P0    29W /  70W |      0MiB / 15360MiB |      0%      Default |\n",
            "|                               |                      |                  N/A |\n",
            "+-------------------------------+----------------------+----------------------+\n",
            "                                                                               \n",
            "+-----------------------------------------------------------------------------+\n",
            "| Processes:                                                                  |\n",
            "|  GPU   GI   CI        PID   Type   Process name                  GPU Memory |\n",
            "|        ID   ID                                                   Usage      |\n",
            "|=============================================================================|\n",
            "|  No running processes found                                                 |\n",
            "+-----------------------------------------------------------------------------+\n"
          ]
        }
      ],
      "source": [
        "!nvidia-smi"
      ]
    },
    {
      "cell_type": "code",
      "source": [
        "!nvcc --version"
      ],
      "metadata": {
        "colab": {
          "base_uri": "https://localhost:8080/",
          "height": 0
        },
        "id": "EVO3AYulTBrl",
        "outputId": "aa773026-847e-4dea-a17e-f142b168b4d2"
      },
      "execution_count": 2,
      "outputs": [
        {
          "output_type": "stream",
          "name": "stdout",
          "text": [
            "nvcc: NVIDIA (R) Cuda compiler driver\n",
            "Copyright (c) 2005-2022 NVIDIA Corporation\n",
            "Built on Wed_Sep_21_10:33:58_PDT_2022\n",
            "Cuda compilation tools, release 11.8, V11.8.89\n",
            "Build cuda_11.8.r11.8/compiler.31833905_0\n"
          ]
        }
      ]
    },
    {
      "cell_type": "code",
      "source": [
        "!pip install numba\n"
      ],
      "metadata": {
        "colab": {
          "base_uri": "https://localhost:8080/",
          "height": 0
        },
        "id": "n61bsnRhTWep",
        "outputId": "50a321d4-f52a-4de0-88e2-455435cd8728"
      },
      "execution_count": 3,
      "outputs": [
        {
          "output_type": "stream",
          "name": "stdout",
          "text": [
            "Looking in indexes: https://pypi.org/simple, https://us-python.pkg.dev/colab-wheels/public/simple/\n",
            "Requirement already satisfied: numba in /usr/local/lib/python3.9/dist-packages (0.56.4)\n",
            "Requirement already satisfied: setuptools in /usr/local/lib/python3.9/dist-packages (from numba) (57.4.0)\n",
            "Requirement already satisfied: numpy<1.24,>=1.18 in /usr/local/lib/python3.9/dist-packages (from numba) (1.22.4)\n",
            "Requirement already satisfied: llvmlite<0.40,>=0.39.0dev0 in /usr/local/lib/python3.9/dist-packages (from numba) (0.39.1)\n"
          ]
        }
      ]
    },
    {
      "cell_type": "code",
      "source": [
        "from numba import jit\n",
        "import numpy as np\n",
        "from timeit import default_timer as timer\n",
        "import random\n",
        "from numba import cuda"
      ],
      "metadata": {
        "id": "KUGd6pbkpn06"
      },
      "execution_count": 2,
      "outputs": []
    },
    {
      "cell_type": "markdown",
      "source": [
        "Задание 2"
      ],
      "metadata": {
        "id": "ramJWAKN0BOK"
      }
    },
    {
      "cell_type": "code",
      "source": [
        "@jit\n",
        "def funcGPU(x):\n",
        "  b = np.zeros(x.shape)\n",
        "  for i in range(1, x.shape[0]-1):\n",
        "    b[i-1] = (x[i-1]+x[i]+x[i+1])/3\n",
        "  return b"
      ],
      "metadata": {
        "id": "lmzQQ9jAp27I"
      },
      "execution_count": 5,
      "outputs": []
    },
    {
      "cell_type": "code",
      "source": [
        "def func(x):\n",
        "  b = np.zeros(x.shape)\n",
        "  for i in range(1, x.shape[0]-1):\n",
        "    b[i-1] = (x[i-1]+x[i]+x[i+1])/3\n",
        "  return b "
      ],
      "metadata": {
        "id": "tdx_NSEBp8Ty"
      },
      "execution_count": 6,
      "outputs": []
    },
    {
      "cell_type": "code",
      "source": [
        "if __name__==\"__main__\":\n",
        "    n = 16000\n",
        "    a = np.array([i for i in range(n)])\n",
        "    start = timer()\n",
        "    func(a)\n",
        "    print(\"не используя GPU:\", timer()-start)\n",
        "    start = timer()\n",
        "    funcGPU(a)\n",
        "    cuda.profile_stop()\n",
        "    print(\"используя GPU:\", timer()-start)"
      ],
      "metadata": {
        "colab": {
          "base_uri": "https://localhost:8080/",
          "height": 0
        },
        "id": "vaLeKgOuqZsQ",
        "outputId": "47f6d102-1f73-4395-d8d2-359b1b564b45"
      },
      "execution_count": 7,
      "outputs": [
        {
          "output_type": "stream",
          "name": "stdout",
          "text": [
            "не используя GPU: 0.019426937999980964\n",
            "используя GPU: 1.567477591999932\n"
          ]
        }
      ]
    },
    {
      "cell_type": "markdown",
      "source": [
        "Задание 4"
      ],
      "metadata": {
        "id": "UXr61DZn0D1l"
      }
    },
    {
      "cell_type": "code",
      "source": [
        "def matrix_multiplication(matrix1, matrix2):\n",
        "\n",
        "    # Проверяем, что матрицы можно перемножить\n",
        "    if len(matrix1[0]) != len(matrix2):\n",
        "        raise ValueError(\"Количество столбцов первой матрицы должно совпадать с количеством строк второй матрицы\")\n",
        "\n",
        "    # Создаем результирующую матрицу, заполненную нулями\n",
        "    result_matrix = [[0 for j in range(len(matrix2[0]))] for i in range(len(matrix1))]\n",
        "\n",
        "    for i in range(len(matrix1)):\n",
        "        for j in range(len(matrix2[0])):\n",
        "            scalar_product = 0\n",
        "            for k in range(len(matrix2)):\n",
        "                scalar_product += matrix1[i][k] * matrix2[k][j]\n",
        "\n",
        "            result_matrix[i][j] = scalar_product\n",
        "\n",
        "    return result_matrix\n"
      ],
      "metadata": {
        "id": "CdZdcK27rqsG"
      },
      "execution_count": 8,
      "outputs": []
    },
    {
      "cell_type": "code",
      "source": [
        "@jit\n",
        "def matrix_multiplicationGPU(matrix1, matrix2):\n",
        "\n",
        "    if len(matrix1[0]) != len(matrix2):\n",
        "        raise ValueError(\"Количество столбцов первой матрицы должно совпадать с количеством строк второй матрицы\")\n",
        "\n",
        "    result_matrix = [[0 for j in range(len(matrix2[0]))] for i in range(len(matrix1))]\n",
        "\n",
        "    for i in range(len(matrix1)):\n",
        "        for j in range(len(matrix2[0])):\n",
        "            scalar_product = 0\n",
        "            for k in range(len(matrix2)):\n",
        "                scalar_product += matrix1[i][k] * matrix2[k][j]\n",
        "\n",
        "            result_matrix[i][j] = scalar_product\n",
        "\n",
        "    return result_matrix"
      ],
      "metadata": {
        "id": "QOIPh2mMwh4a"
      },
      "execution_count": 9,
      "outputs": []
    },
    {
      "cell_type": "code",
      "source": [
        "if __name__==\"__main__\":\n",
        "    m, n, k = 1000, 1000, 1000\n",
        "    matrix1 = np.random.randint(100, size = (m, n))\n",
        "    matrix2 = np.random.randint(100, size = (n, k))\n",
        "    start = timer()\n",
        "    matrix_multiplication(matrix1, matrix2)\n",
        "    print(\"не используя GPU:\", timer()-start)\n",
        "    start = timer()\n",
        "    matrix_multiplicationGPU(matrix1, matrix2)\n",
        "    cuda.profile_stop()\n",
        "    print(\"используя GPU:\", timer()-start)"
      ],
      "metadata": {
        "colab": {
          "base_uri": "https://localhost:8080/",
          "height": 0
        },
        "id": "8s4zoT-VwlOZ",
        "outputId": "ed24e995-ab04-4d9b-9931-d07d8e9ee858"
      },
      "execution_count": 12,
      "outputs": [
        {
          "output_type": "stream",
          "name": "stdout",
          "text": [
            "не используя GPU: 673.7963576510001\n",
            "используя GPU: 1.3906651000002057\n"
          ]
        }
      ]
    },
    {
      "cell_type": "markdown",
      "source": [
        "Задание 1"
      ],
      "metadata": {
        "id": "hQULeAvb2t7m"
      }
    },
    {
      "cell_type": "code",
      "source": [
        "@jit\n",
        "def HelloWorld():\n",
        "  print(\"Hello world\")"
      ],
      "metadata": {
        "id": "jbFx4zvAwhxt"
      },
      "execution_count": 13,
      "outputs": []
    },
    {
      "cell_type": "code",
      "source": [
        "if __name__==\"__main__\":\n",
        "  HelloWorld()"
      ],
      "metadata": {
        "colab": {
          "base_uri": "https://localhost:8080/",
          "height": 0
        },
        "id": "1pj3BPN00sm3",
        "outputId": "ca8d02fe-8163-4451-e8d0-5ef274ea8f2f"
      },
      "execution_count": 14,
      "outputs": [
        {
          "output_type": "stream",
          "name": "stdout",
          "text": [
            "Hello world\n"
          ]
        }
      ]
    },
    {
      "cell_type": "markdown",
      "source": [
        "Лабораторная работа"
      ],
      "metadata": {
        "id": "hyt1icRK2wqF"
      }
    },
    {
      "cell_type": "code",
      "source": [
        "import math\n",
        "\n",
        "def f(x):\n",
        "  return np.exp(x)"
      ],
      "metadata": {
        "id": "uD4tYM6G2vFR"
      },
      "execution_count": 3,
      "outputs": []
    },
    {
      "cell_type": "code",
      "source": [
        "def rectangle_rule_integration(a, b, n):\n",
        "    \"\"\"\n",
        "    Вычисляет определенный интеграл f(x) на интервале [a, b]\n",
        "    с использованием метода прямоугольников с n прямоугольниками.\n",
        "\n",
        "    f - функция, которую необходимо проинтегрировать\n",
        "    a, b - конечные точки интервала интегрирования\n",
        "    n - количество прямоугольников\n",
        "    \"\"\"\n",
        "    h = (b - a) / n  # ширина прямоугольника\n",
        "    integral_sum = 0\n",
        "    for i in range(n):\n",
        "        x_i = a + i * h  # левая граница i-го прямоугольника\n",
        "        integral_sum += f(x_i) * h\n",
        "    return integral_sum\n"
      ],
      "metadata": {
        "id": "9uQk5YBq3BgV"
      },
      "execution_count": 4,
      "outputs": []
    },
    {
      "cell_type": "code",
      "source": [
        "@jit\n",
        "def rectangle_rule_integrationGPU(a, b, n):\n",
        "    \n",
        "    h = (b - a) / n \n",
        "    integral_sum = 0\n",
        "    for i in range(n):\n",
        "        x_i = a + i * h  \n",
        "        integral_sum += f(x_i) * h\n",
        "    return integral_sum\n"
      ],
      "metadata": {
        "id": "PO0aE4fO4Xit"
      },
      "execution_count": 5,
      "outputs": []
    },
    {
      "cell_type": "code",
      "source": [
        "if __name__==\"__main__\":\n",
        "    n = 10000000\n",
        "    a = 0\n",
        "    b = 1\n",
        "    print(\"n =\",n)\n",
        "    start = timer()\n",
        "    rectangle_rule_integration(a,b,n)\n",
        "    print(\"не используя GPU:\", timer()-start)\n",
        "    start = timer()\n",
        "    rectangle_rule_integrationGPU(a,b,n)\n",
        "    cuda.profile_stop()\n",
        "    print(\"используя GPU:\", timer()-start)\n"
      ],
      "metadata": {
        "id": "wbabp6An49Js"
      },
      "execution_count": null,
      "outputs": []
    },
    {
      "cell_type": "markdown",
      "source": [
        "n = 10000\\\n",
        "не используя GPU: 0.021303477999026654\\\n",
        "используя GPU: 0.023017559999061632\\\n",
        "n = 100000\\\n",
        "не используя GPU: 0.12404612700083817\\\n",
        "используя GPU: 0.1192904230010754\\\n",
        "n = 10000000\\\n",
        "не используя GPU: 12.443151404999298\\\n",
        "используя GPU: 12.2176247339994"
      ],
      "metadata": {
        "id": "F97nILpnKwcB"
      }
    },
    {
      "cell_type": "code",
      "source": [],
      "metadata": {
        "id": "GLkptJST-Jvd"
      },
      "execution_count": 24,
      "outputs": []
    }
  ]
}